{
 "cells": [
  {
   "cell_type": "code",
   "execution_count": 5,
   "id": "972c4846",
   "metadata": {},
   "outputs": [
    {
     "name": "stdout",
     "output_type": "stream",
     "text": [
      "Requirement already satisfied: nltk in c:\\users\\afaq_lite\\anaconda3\\lib\\site-packages (3.7)\n",
      "Requirement already satisfied: tqdm in c:\\users\\afaq_lite\\anaconda3\\lib\\site-packages (from nltk) (4.64.1)\n",
      "Requirement already satisfied: regex>=2021.8.3 in c:\\users\\afaq_lite\\anaconda3\\lib\\site-packages (from nltk) (2022.7.9)\n",
      "Requirement already satisfied: click in c:\\users\\afaq_lite\\anaconda3\\lib\\site-packages (from nltk) (8.0.4)\n",
      "Requirement already satisfied: joblib in c:\\users\\afaq_lite\\anaconda3\\lib\\site-packages (from nltk) (1.1.0)\n",
      "Requirement already satisfied: colorama in c:\\users\\afaq_lite\\anaconda3\\lib\\site-packages (from click->nltk) (0.4.6)\n",
      "Note: you may need to restart the kernel to use updated packages.\n"
     ]
    },
    {
     "name": "stderr",
     "output_type": "stream",
     "text": [
      "WARNING: Ignoring invalid distribution -rotobuf (c:\\users\\afaq_lite\\anaconda3\\lib\\site-packages)\n",
      "WARNING: Ignoring invalid distribution -rotobuf (c:\\users\\afaq_lite\\anaconda3\\lib\\site-packages)\n",
      "WARNING: Ignoring invalid distribution -rotobuf (c:\\users\\afaq_lite\\anaconda3\\lib\\site-packages)\n",
      "WARNING: Ignoring invalid distribution -rotobuf (c:\\users\\afaq_lite\\anaconda3\\lib\\site-packages)\n",
      "WARNING: Ignoring invalid distribution -rotobuf (c:\\users\\afaq_lite\\anaconda3\\lib\\site-packages)\n",
      "WARNING: Ignoring invalid distribution -rotobuf (c:\\users\\afaq_lite\\anaconda3\\lib\\site-packages)\n",
      "\n",
      "[notice] A new release of pip is available: 23.0.1 -> 23.1.2\n",
      "[notice] To update, run: python.exe -m pip install --upgrade pip\n"
     ]
    }
   ],
   "source": [
    "%pip install nltk"
   ]
  },
  {
   "cell_type": "code",
   "execution_count": 8,
   "id": "f538711a",
   "metadata": {},
   "outputs": [],
   "source": [
    "import nltk "
   ]
  },
  {
   "cell_type": "code",
   "execution_count": 22,
   "id": "6687577d",
   "metadata": {},
   "outputs": [],
   "source": [
    "from nltk.corpus import stopwords\n",
    "import re\n",
    "from nltk.stem.porter import PorterStemmer\n",
    "import numpy as np\n"
   ]
  },
  {
   "cell_type": "code",
   "execution_count": 23,
   "id": "4cc02fc9",
   "metadata": {},
   "outputs": [],
   "source": [
    "#Data Cleaning\n",
    "def preprocessing(data):\n",
    "    stemmer = nltk.stem.RSLPStemmer()\n",
    "    all_stopwords = stopwords.words('english')\n",
    "    all_stopwords.remove('not')\n",
    "    corpus = []\n",
    "    for tweet in data:\n",
    "      review = re.sub(r\"@[A-Za-z0-9_]+\", \" \", tweet)\n",
    "      review = re.sub('RT', ' ', review)\n",
    "      review = re.sub(r\"https?://[A-Za-z0-9./]+\", \" \", review)\n",
    "      review = re.sub(r\"https?\", \" \", review)\n",
    "      review = re.sub('[^a-zA-Z]', ' ', review)\n",
    "      review = review.lower()\n",
    "      review = review.split()\n",
    "      ps = PorterStemmer()\n",
    "      review = [ps.stem(word) for word in review if not word in set(all_stopwords) if len(word) > 2]\n",
    "      review = ' '.join(review)\n",
    "      corpus.append(review)\n",
    "\n",
    "    return np.array(corpus)"
   ]
  },
  {
   "cell_type": "code",
   "execution_count": 24,
   "id": "7050bc02",
   "metadata": {},
   "outputs": [
    {
     "name": "stdout",
     "output_type": "stream",
     "text": [
      "[2]\n"
     ]
    }
   ],
   "source": [
    "import pickle\n",
    "\n",
    "# Preprocess the new data\n",
    "new_data_sample = [\"ahmed khalifa\"]\n",
    "processed_data_sample = preprocessing(new_data_sample)\n",
    "\n",
    "# Load the trained model and vectorizer\n",
    "with open('logistic_regression_model.pkl', 'rb') as file:\n",
    "    model, vectorizer = pickle.load(file)\n",
    "\n",
    "# Transform the preprocessed data using the loaded vectorizer\n",
    "tokenized_data_sample = vectorizer.transform(processed_data_sample).toarray()\n",
    "\n",
    "# Make predictions on the new data\n",
    "predictions = model.predict(tokenized_data_sample)\n",
    "\n",
    "# Print the predictions\n",
    "print(predictions)\n"
   ]
  },
  {
   "cell_type": "code",
   "execution_count": null,
   "id": "cfcc95fc",
   "metadata": {},
   "outputs": [],
   "source": []
  }
 ],
 "metadata": {
  "kernelspec": {
   "display_name": "Python 3 (ipykernel)",
   "language": "python",
   "name": "python3"
  },
  "language_info": {
   "codemirror_mode": {
    "name": "ipython",
    "version": 3
   },
   "file_extension": ".py",
   "mimetype": "text/x-python",
   "name": "python",
   "nbconvert_exporter": "python",
   "pygments_lexer": "ipython3",
   "version": "3.9.13"
  }
 },
 "nbformat": 4,
 "nbformat_minor": 5
}
